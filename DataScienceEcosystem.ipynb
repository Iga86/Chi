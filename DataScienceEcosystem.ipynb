{
 "cells": [
  {
   "cell_type": "markdown",
   "id": "c35081d7-d379-4b0a-9a01-636ca8452929",
   "metadata": {},
   "source": [
    "# H1 Data Science Tools and Ecosystem"
   ]
  },
  {
   "cell_type": "markdown",
   "id": "87450fc9-5037-4106-8bcc-2b4919f84732",
   "metadata": {},
   "source": [
    "In this notebook, Data Science Tools and Ecosystem are summarized."
   ]
  },
  {
   "cell_type": "markdown",
   "id": "da11267e-4765-485e-99d1-4bea6ee33ec6",
   "metadata": {},
   "source": [
    "# Objectives\n",
    "* List popular languages for Data Science\n",
    "* List popular libraries for Data Science\n",
    "* List popular environment for Data Science\n",
    "* List commercial tools for Data Science"
   ]
  },
  {
   "cell_type": "markdown",
   "id": "81f50d07-8449-4c19-b3b3-4e38db36e31c",
   "metadata": {},
   "source": [
    "Some of the popular languages that Data Scientists use are:"
   ]
  },
  {
   "cell_type": "markdown",
   "id": "b2840d39-7c8c-4229-b32a-7e0488cd1b12",
   "metadata": {},
   "source": [
    "1.   Python\n",
    "2.   R\n",
    "3.   C\n",
    "4.   C#\n",
    "5.   C+\n",
    "6.   C++"
   ]
  },
  {
   "cell_type": "markdown",
   "id": "5d0b97b2-e849-4c1d-b108-d7b31938bece",
   "metadata": {},
   "source": [
    "Some of the commonly used libraries used by Data Scientists include:"
   ]
  },
  {
   "cell_type": "markdown",
   "id": "92de8807-9a09-4a86-83d8-8eb381601244",
   "metadata": {},
   "source": [
    "1.  Pandas\n",
    "2.  Numpy\n",
    "3.  Scikit-learn\n",
    "4.  TensorFlow\n",
    "5.  Scipy"
   ]
  },
  {
   "cell_type": "markdown",
   "id": "00744f08-10ce-46e9-b496-b30434c0d017",
   "metadata": {},
   "source": [
    "Data Science Tools\n",
    "|----------------|\n",
    "|Juputer Notebook|\n",
    "|JupyterLab|\n",
    "|VS Code|"
   ]
  },
  {
   "cell_type": "code",
   "execution_count": null,
   "id": "86adb548-e053-4242-9b5a-f953aea2cad6",
   "metadata": {},
   "outputs": [],
   "source": [
    "### Below are a few examples of evalauting arithmetic expressions in Python"
   ]
  },
  {
   "cell_type": "code",
   "execution_count": 4,
   "id": "aeb93785-f786-41b3-b3ba-b6432b0f993e",
   "metadata": {},
   "outputs": [
    {
     "data": {
      "text/plain": [
       "17"
      ]
     },
     "execution_count": 4,
     "metadata": {},
     "output_type": "execute_result"
    }
   ],
   "source": [
    "#This is a simple arithmetic expression to multiply then add integers\n",
    "(3*4)+5"
   ]
  },
  {
   "cell_type": "code",
   "execution_count": 8,
   "id": "943385c6-4456-48b1-9d86-55b17a51992e",
   "metadata": {},
   "outputs": [],
   "source": [
    "#This will convert 200 minutes to hours by dividing by 60\n",
    "hours, minutes = divmod(200, 60)"
   ]
  },
  {
   "cell_type": "markdown",
   "id": "005b7c2e-5b88-4f1f-8a15-52f1a85f61fa",
   "metadata": {},
   "source": [
    "## Author\n",
    "Godswill Emeka Okutue"
   ]
  },
  {
   "cell_type": "code",
   "execution_count": null,
   "id": "e1b1db4d-3f55-40d6-9b56-f2655dfccb32",
   "metadata": {},
   "outputs": [],
   "source": []
  }
 ],
 "metadata": {
  "kernelspec": {
   "display_name": "Python 3 (ipykernel)",
   "language": "python",
   "name": "python3"
  },
  "language_info": {
   "codemirror_mode": {
    "name": "ipython",
    "version": 3
   },
   "file_extension": ".py",
   "mimetype": "text/x-python",
   "name": "python",
   "nbconvert_exporter": "python",
   "pygments_lexer": "ipython3",
   "version": "3.12.7"
  }
 },
 "nbformat": 4,
 "nbformat_minor": 5
}
